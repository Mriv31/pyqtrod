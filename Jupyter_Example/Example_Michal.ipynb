{
 "cells": [
  {
   "cell_type": "code",
   "execution_count": 1,
   "id": "528a34c9-a194-4e19-a21f-134c5bded4cd",
   "metadata": {},
   "outputs": [
    {
     "ename": "OSError",
     "evalue": "'./PyQtRod/mr_widget.mplstyle' not found in the style library and input is not a valid URL or path; see `style.available` for list of available styles",
     "output_type": "error",
     "traceback": [
      "\u001b[0;31m---------------------------------------------------------------------------\u001b[0m",
      "\u001b[0;31mFileNotFoundError\u001b[0m                         Traceback (most recent call last)",
      "File \u001b[0;32m~/.local/lib/python3.10/site-packages/matplotlib/style/core.py:127\u001b[0m, in \u001b[0;36muse\u001b[0;34m(style)\u001b[0m\n\u001b[1;32m    126\u001b[0m \u001b[38;5;28;01mtry\u001b[39;00m:\n\u001b[0;32m--> 127\u001b[0m     rc \u001b[38;5;241m=\u001b[39m \u001b[43mrc_params_from_file\u001b[49m\u001b[43m(\u001b[49m\u001b[43mstyle\u001b[49m\u001b[43m,\u001b[49m\u001b[43m \u001b[49m\u001b[43muse_default_template\u001b[49m\u001b[38;5;241;43m=\u001b[39;49m\u001b[38;5;28;43;01mFalse\u001b[39;49;00m\u001b[43m)\u001b[49m\n\u001b[1;32m    128\u001b[0m     _apply_style(rc)\n",
      "File \u001b[0;32m~/.local/lib/python3.10/site-packages/matplotlib/__init__.py:852\u001b[0m, in \u001b[0;36mrc_params_from_file\u001b[0;34m(fname, fail_on_error, use_default_template)\u001b[0m\n\u001b[1;32m    838\u001b[0m \u001b[38;5;124;03m\"\"\"\u001b[39;00m\n\u001b[1;32m    839\u001b[0m \u001b[38;5;124;03mConstruct a `RcParams` from file *fname*.\u001b[39;00m\n\u001b[1;32m    840\u001b[0m \n\u001b[0;32m   (...)\u001b[0m\n\u001b[1;32m    850\u001b[0m \u001b[38;5;124;03m    parameters specified in the file. (Useful for updating dicts.)\u001b[39;00m\n\u001b[1;32m    851\u001b[0m \u001b[38;5;124;03m\"\"\"\u001b[39;00m\n\u001b[0;32m--> 852\u001b[0m config_from_file \u001b[38;5;241m=\u001b[39m \u001b[43m_rc_params_in_file\u001b[49m\u001b[43m(\u001b[49m\u001b[43mfname\u001b[49m\u001b[43m,\u001b[49m\u001b[43m \u001b[49m\u001b[43mfail_on_error\u001b[49m\u001b[38;5;241;43m=\u001b[39;49m\u001b[43mfail_on_error\u001b[49m\u001b[43m)\u001b[49m\n\u001b[1;32m    854\u001b[0m \u001b[38;5;28;01mif\u001b[39;00m \u001b[38;5;129;01mnot\u001b[39;00m use_default_template:\n",
      "File \u001b[0;32m~/.local/lib/python3.10/site-packages/matplotlib/__init__.py:778\u001b[0m, in \u001b[0;36m_rc_params_in_file\u001b[0;34m(fname, transform, fail_on_error)\u001b[0m\n\u001b[1;32m    777\u001b[0m rc_temp \u001b[38;5;241m=\u001b[39m {}\n\u001b[0;32m--> 778\u001b[0m \u001b[38;5;28;01mwith\u001b[39;00m _open_file_or_url(fname) \u001b[38;5;28;01mas\u001b[39;00m fd:\n\u001b[1;32m    779\u001b[0m     \u001b[38;5;28;01mtry\u001b[39;00m:\n",
      "File \u001b[0;32m/usr/lib/python3.10/contextlib.py:135\u001b[0m, in \u001b[0;36m_GeneratorContextManager.__enter__\u001b[0;34m(self)\u001b[0m\n\u001b[1;32m    134\u001b[0m \u001b[38;5;28;01mtry\u001b[39;00m:\n\u001b[0;32m--> 135\u001b[0m     \u001b[38;5;28;01mreturn\u001b[39;00m \u001b[38;5;28;43mnext\u001b[39;49m\u001b[43m(\u001b[49m\u001b[38;5;28;43mself\u001b[39;49m\u001b[38;5;241;43m.\u001b[39;49m\u001b[43mgen\u001b[49m\u001b[43m)\u001b[49m\n\u001b[1;32m    136\u001b[0m \u001b[38;5;28;01mexcept\u001b[39;00m \u001b[38;5;167;01mStopIteration\u001b[39;00m:\n",
      "File \u001b[0;32m~/.local/lib/python3.10/site-packages/matplotlib/__init__.py:755\u001b[0m, in \u001b[0;36m_open_file_or_url\u001b[0;34m(fname)\u001b[0m\n\u001b[1;32m    754\u001b[0m     encoding \u001b[38;5;241m=\u001b[39m \u001b[38;5;124m\"\u001b[39m\u001b[38;5;124mutf-8\u001b[39m\u001b[38;5;124m\"\u001b[39m\n\u001b[0;32m--> 755\u001b[0m \u001b[38;5;28;01mwith\u001b[39;00m \u001b[38;5;28;43mopen\u001b[39;49m\u001b[43m(\u001b[49m\u001b[43mfname\u001b[49m\u001b[43m,\u001b[49m\u001b[43m \u001b[49m\u001b[43mencoding\u001b[49m\u001b[38;5;241;43m=\u001b[39;49m\u001b[43mencoding\u001b[49m\u001b[43m)\u001b[49m \u001b[38;5;28;01mas\u001b[39;00m f:\n\u001b[1;32m    756\u001b[0m     \u001b[38;5;28;01myield\u001b[39;00m f\n",
      "\u001b[0;31mFileNotFoundError\u001b[0m: [Errno 2] No such file or directory: './PyQtRod/mr_widget.mplstyle'",
      "\nThe above exception was the direct cause of the following exception:\n",
      "\u001b[0;31mOSError\u001b[0m                                   Traceback (most recent call last)",
      "Input \u001b[0;32mIn [1]\u001b[0m, in \u001b[0;36m<cell line: 11>\u001b[0;34m()\u001b[0m\n\u001b[1;32m      9\u001b[0m \u001b[38;5;28;01mimport\u001b[39;00m \u001b[38;5;21;01msys\u001b[39;00m\n\u001b[1;32m     10\u001b[0m sys\u001b[38;5;241m.\u001b[39mpath\u001b[38;5;241m.\u001b[39minsert(\u001b[38;5;241m0\u001b[39m, \u001b[38;5;124m'\u001b[39m\u001b[38;5;124m./PyQtRod\u001b[39m\u001b[38;5;124m'\u001b[39m) \u001b[38;5;66;03m#insert PyQtRod path to use the reader module NIfile. Change to the location of PyQtRod.\u001b[39;00m\n\u001b[0;32m---> 11\u001b[0m \u001b[43mplt\u001b[49m\u001b[38;5;241;43m.\u001b[39;49m\u001b[43mstyle\u001b[49m\u001b[38;5;241;43m.\u001b[39;49m\u001b[43muse\u001b[49m\u001b[43m(\u001b[49m\u001b[38;5;124;43m'\u001b[39;49m\u001b[38;5;124;43m./PyQtRod/mr_widget.mplstyle\u001b[39;49m\u001b[38;5;124;43m'\u001b[39;49m\u001b[43m)\u001b[49m \u001b[38;5;66;03m#my own style, can remove\u001b[39;00m\n\u001b[1;32m     12\u001b[0m \u001b[38;5;28;01mfrom\u001b[39;00m \u001b[38;5;21;01mMR_jupyter\u001b[39;00m \u001b[38;5;28;01mimport\u001b[39;00m \u001b[38;5;241m*\u001b[39m\n\u001b[1;32m     13\u001b[0m dispwidget()\n",
      "File \u001b[0;32m~/.local/lib/python3.10/site-packages/matplotlib/style/core.py:130\u001b[0m, in \u001b[0;36muse\u001b[0;34m(style)\u001b[0m\n\u001b[1;32m    128\u001b[0m     _apply_style(rc)\n\u001b[1;32m    129\u001b[0m \u001b[38;5;28;01mexcept\u001b[39;00m \u001b[38;5;167;01mIOError\u001b[39;00m \u001b[38;5;28;01mas\u001b[39;00m err:\n\u001b[0;32m--> 130\u001b[0m     \u001b[38;5;28;01mraise\u001b[39;00m \u001b[38;5;167;01mIOError\u001b[39;00m(\n\u001b[1;32m    131\u001b[0m         \u001b[38;5;124m\"\u001b[39m\u001b[38;5;132;01m{!r}\u001b[39;00m\u001b[38;5;124m not found in the style library and input is not a \u001b[39m\u001b[38;5;124m\"\u001b[39m\n\u001b[1;32m    132\u001b[0m         \u001b[38;5;124m\"\u001b[39m\u001b[38;5;124mvalid URL or path; see `style.available` for list of \u001b[39m\u001b[38;5;124m\"\u001b[39m\n\u001b[1;32m    133\u001b[0m         \u001b[38;5;124m\"\u001b[39m\u001b[38;5;124mavailable styles\u001b[39m\u001b[38;5;124m\"\u001b[39m\u001b[38;5;241m.\u001b[39mformat(style)) \u001b[38;5;28;01mfrom\u001b[39;00m \u001b[38;5;21;01merr\u001b[39;00m\n",
      "\u001b[0;31mOSError\u001b[0m: './PyQtRod/mr_widget.mplstyle' not found in the style library and input is not a valid URL or path; see `style.available` for list of available styles"
     ]
    }
   ],
   "source": [
    "#Generic Modules\n",
    "from matplotlib import pyplot as plt\n",
    "import matplotlib as mpl\n",
    "from scipy import signal\n",
    "import numpy as np\n",
    "from scipy.optimize import curve_fit,minimize\n",
    "\n",
    "#Martin's style\n",
    "import sys\n",
    "sys.path.insert(0, './PyQtRod') #insert PyQtRod path to use the reader module NIfile. Change to the location of PyQtRod.\n",
    "plt.style.use('./PyQtRod/mr_widget.mplstyle') #my own style, can remove\n",
    "from MR_jupyter import *\n",
    "dispwidget()\n",
    "\n",
    "\n",
    "#Rod's functions\n",
    "from NIfile import NIfile\n",
    "\n",
    "\n",
    "\n"
   ]
  },
  {
   "cell_type": "code",
   "execution_count": 2,
   "id": "99cdbee9-b3e8-456c-b9e8-14397617e521",
   "metadata": {},
   "outputs": [
    {
     "ename": "NameError",
     "evalue": "name 'NIfile' is not defined",
     "output_type": "error",
     "traceback": [
      "\u001b[0;31m---------------------------------------------------------------------------\u001b[0m",
      "\u001b[0;31mNameError\u001b[0m                                 Traceback (most recent call last)",
      "Input \u001b[0;32mIn [2]\u001b[0m, in \u001b[0;36m<cell line: 2>\u001b[0;34m()\u001b[0m\n\u001b[1;32m      1\u001b[0m tdmspath \u001b[38;5;241m=\u001b[39m \u001b[38;5;124m\"\u001b[39m\u001b[38;5;124m2022_10_26_MTB32_DeltaCheY/filess9.tdms\u001b[39m\u001b[38;5;124m\"\u001b[39m \u001b[38;5;66;03m#file number\u001b[39;00m\n\u001b[0;32m----> 2\u001b[0m f \u001b[38;5;241m=\u001b[39m \u001b[43mNIfile\u001b[49m(tdmspath,dec\u001b[38;5;241m=\u001b[39m\u001b[38;5;241m1\u001b[39m,max_size\u001b[38;5;241m=\u001b[39m\u001b[38;5;241m20000\u001b[39m)\n\u001b[1;32m      4\u001b[0m \u001b[38;5;28mprint\u001b[39m(\u001b[38;5;124m\"\u001b[39m\u001b[38;5;124mFile of length \u001b[39m\u001b[38;5;124m\"\u001b[39m\u001b[38;5;241m+\u001b[39m\u001b[38;5;28mstr\u001b[39m(\u001b[38;5;28mlen\u001b[39m(f\u001b[38;5;241m.\u001b[39mchannels[\u001b[38;5;241m0\u001b[39m])))\n\u001b[1;32m      5\u001b[0m start \u001b[38;5;241m=\u001b[39m \u001b[38;5;241m3000000\u001b[39m \u001b[38;5;66;03m#starting index to load file from memory\u001b[39;00m\n",
      "\u001b[0;31mNameError\u001b[0m: name 'NIfile' is not defined"
     ]
    }
   ],
   "source": [
    "tdmspath = \"2022_10_26_MTB32_DeltaCheY/filess9.tdms\" #file number\n",
    "f = NIfile(tdmspath,dec=1,max_size=20000)\n",
    "\n",
    "print(\"File of length \"+str(len(f.channels[0])))\n",
    "start = 3000000 #starting index to load file from memory\n",
    "stop = len(f.channels[0])\n",
    "dec = 1\n",
    "\n",
    "\n",
    "filebeforeOct22 = 1"
   ]
  },
  {
   "cell_type": "code",
   "execution_count": 3,
   "id": "90ef9784-2a24-4a8f-871e-b226073e999d",
   "metadata": {},
   "outputs": [
    {
     "ename": "NameError",
     "evalue": "name 'f' is not defined",
     "output_type": "error",
     "traceback": [
      "\u001b[0;31m---------------------------------------------------------------------------\u001b[0m",
      "\u001b[0;31mNameError\u001b[0m                                 Traceback (most recent call last)",
      "Input \u001b[0;32mIn [3]\u001b[0m, in \u001b[0;36m<cell line: 1>\u001b[0;34m()\u001b[0m\n\u001b[0;32m----> 1\u001b[0m freq \u001b[38;5;241m=\u001b[39m \u001b[43mf\u001b[49m\u001b[38;5;241m.\u001b[39mfreq\n\u001b[1;32m      2\u001b[0m xtime \u001b[38;5;241m=\u001b[39m np\u001b[38;5;241m.\u001b[39marange(start,stop,\u001b[38;5;241m1\u001b[39m)\u001b[38;5;241m/\u001b[39m\u001b[38;5;241m250e3\u001b[39m\u001b[38;5;241m*\u001b[39mdec\n\u001b[1;32m      5\u001b[0m channels \u001b[38;5;241m=\u001b[39m []\n",
      "\u001b[0;31mNameError\u001b[0m: name 'f' is not defined"
     ]
    }
   ],
   "source": [
    "\n",
    "\n",
    "freq = f.freq\n",
    "xtime = np.arange(start,stop,1)/250e3*dec\n",
    "\n",
    "\n",
    "channels = []\n",
    "for i in range(4):\n",
    "    channels.append(f.channels[i][start:stop:dec])\n",
    "pol_ind = f.get_pol_ind([\"0\",\"90\",\"45\",\"135\"])\n",
    "C0or,C90or,C45or,C135or = [channels[pol_ind[i]] for i in range(len(pol_ind))]\n",
    "\n",
    "try:\n",
    "    del(c0,c90,c45,c135,phi,phiu,phir,theta1,Itot,Itot2stheta)\n",
    "except:\n",
    "    \"not present\""
   ]
  },
  {
   "cell_type": "code",
   "execution_count": 4,
   "id": "915bbd87-2714-4811-8142-6c90598bdcd8",
   "metadata": {},
   "outputs": [
    {
     "ename": "NameError",
     "evalue": "name 'x' is not defined",
     "output_type": "error",
     "traceback": [
      "\u001b[0;31m---------------------------------------------------------------------------\u001b[0m",
      "\u001b[0;31mNameError\u001b[0m                                 Traceback (most recent call last)",
      "Input \u001b[0;32mIn [4]\u001b[0m, in \u001b[0;36m<cell line: 1>\u001b[0;34m()\u001b[0m\n\u001b[0;32m----> 1\u001b[0m f0, Pxx_den0 \u001b[38;5;241m=\u001b[39m signal\u001b[38;5;241m.\u001b[39mwelch(\u001b[43mx\u001b[49m[i\u001b[38;5;241m*\u001b[39m\u001b[38;5;28mself\u001b[39m\u001b[38;5;241m.\u001b[39moverlap:i\u001b[38;5;241m*\u001b[39m\u001b[38;5;28mself\u001b[39m\u001b[38;5;241m.\u001b[39moverlap\u001b[38;5;241m+\u001b[39m\u001b[38;5;28mself\u001b[39m\u001b[38;5;241m.\u001b[39mwindowsize], \u001b[38;5;28mself\u001b[39m\u001b[38;5;241m.\u001b[39mNITab\u001b[38;5;241m.\u001b[39mNIf\u001b[38;5;241m.\u001b[39mfreq,nperseg\u001b[38;5;241m=\u001b[39m\u001b[38;5;28mself\u001b[39m\u001b[38;5;241m.\u001b[39mnperseg,nfft\u001b[38;5;241m=\u001b[39m\u001b[38;5;28mself\u001b[39m\u001b[38;5;241m.\u001b[39mnfft)\n\u001b[1;32m      2\u001b[0m max_freq\u001b[38;5;241m.\u001b[39mappend(f0[np\u001b[38;5;241m.\u001b[39margmax(Pxx_den0)])\n",
      "\u001b[0;31mNameError\u001b[0m: name 'x' is not defined"
     ]
    }
   ],
   "source": [
    "f0, Pxx_den0 = signal.welch(x[i*self.overlap:i*self.overlap+self.windowsize], self.NITab.NIf.freq,nperseg=self.nperseg,nfft=self.nfft)\n",
    "max_freq.append(f0[np.argmax(Pxx_den0)])"
   ]
  },
  {
   "cell_type": "code",
   "execution_count": null,
   "id": "8d7e4be4-a2bb-4f1c-be1a-63f6a1a7ac72",
   "metadata": {},
   "outputs": [],
   "source": []
  }
 ],
 "metadata": {
  "kernelspec": {
   "display_name": "Python 3 (ipykernel)",
   "language": "python",
   "name": "python3"
  },
  "language_info": {
   "codemirror_mode": {
    "name": "ipython",
    "version": 3
   },
   "file_extension": ".py",
   "mimetype": "text/x-python",
   "name": "python",
   "nbconvert_exporter": "python",
   "pygments_lexer": "ipython3",
   "version": "3.10.6"
  }
 },
 "nbformat": 4,
 "nbformat_minor": 5
}

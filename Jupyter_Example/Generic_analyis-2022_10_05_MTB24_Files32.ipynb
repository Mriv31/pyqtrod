{
 "cells": [
  {
   "cell_type": "code",
   "execution_count": 3,
   "id": "ba713a90-4a2e-403c-89e5-4c26ed47d2a5",
   "metadata": {
    "tags": []
   },
   "outputs": [],
   "source": [
    "#Generic Modules\n",
    "from matplotlib import pyplot as plt\n",
    "import matplotlib as mpl\n",
    "from scipy import signal\n",
    "import numpy as np\n",
    "from scipy.optimize import curve_fit,minimize\n",
    "\n",
    "#Martin's style\n",
    "import sys\n",
    "sys.path.insert(0, './PyQtRod') #insert PyQtRod path to use the reader module NIfile. Change to the location of PyQtRod.\n",
    "sys.path.insert(0, './PyQtRod/Helpers') #insert PyQtRod path to use the reader module NIfile. Change to the location of PyQtRod.\n",
    "\n",
    "plt.style.use('./PyQtRod/mr_widget.mplstyle') #my own style, can remove\n",
    "from MR_jupyter import *\n",
    "dispwidget()\n",
    "\n",
    "\n",
    "#Rod's functions\n",
    "from NIfile import NIfile\n",
    "from Fourkas import *\n",
    "from corr_matrix import *\n",
    "from speeds import *\n",
    "from functools import partial\n",
    "from ECF import *\n",
    "\n",
    "\n",
    "\n",
    "\n"
   ]
  },
  {
   "cell_type": "code",
   "execution_count": 29,
   "id": "1ca5f52b-037b-48f0-a25c-ea8500c388d9",
   "metadata": {
    "tags": []
   },
   "outputs": [
    {
     "name": "stdout",
     "output_type": "stream",
     "text": [
      "File of length 119603588\n"
     ]
    }
   ],
   "source": [
    "tdmspath = \"2022_20_11_MTB32_biotin_rod/pathd.tdms\" #file number\n",
    "dec = 1\n",
    "f = NIfile(tdmspath,dec=dec,max_size=20000)\n",
    "\n",
    "print(\"File of length \"+str(len(f.channels[0])))\n",
    "start =  0#starting index to load file from memory\n",
    "stop = 3000000\n",
    "\n",
    "\n",
    "\n",
    "filebeforeOct22 = 1"
   ]
  },
  {
   "cell_type": "markdown",
   "id": "bf0ad20f-33df-4a01-999e-b221b5ff4f75",
   "metadata": {
    "tags": []
   },
   "source": [
    "# Initialization"
   ]
  },
  {
   "cell_type": "markdown",
   "id": "4a0b4d64-ea8a-4fe7-95a1-97ce5eb7ba4d",
   "metadata": {
    "tags": []
   },
   "source": [
    "## Load"
   ]
  },
  {
   "cell_type": "code",
   "execution_count": 30,
   "id": "4b2ee0d9-f05d-4d46-a9e6-17a179372827",
   "metadata": {
    "tags": []
   },
   "outputs": [],
   "source": [
    "\n",
    "\n",
    "freq = f.freq\n",
    "xtime = np.arange(start,stop,1)/250e3*dec\n",
    "\n",
    "\n",
    "channels = []\n",
    "for i in range(4):\n",
    "    channels.append(f.channels[i][start:stop:dec])\n",
    "pol_ind = f.get_pol_ind([\"0\",\"90\",\"45\",\"135\"])\n",
    "C0or,C90or,C45or,C135or = [channels[pol_ind[i]] for i in range(len(pol_ind))]\n",
    "\n",
    "try:\n",
    "    del(c0,c90,c45,c135,phi,phiu,phir,theta1,Itot,Itot2stheta)\n",
    "except:\n",
    "    \"not present\"\n"
   ]
  },
  {
   "cell_type": "code",
   "execution_count": null,
   "id": "67cec51e-7a3c-4502-b985-8eb5d95f6a60",
   "metadata": {
    "tags": []
   },
   "outputs": [],
   "source": []
  },
  {
   "cell_type": "markdown",
   "id": "25a42d10-f3d1-4fe9-9733-3d1ffc9e78fa",
   "metadata": {
    "tags": []
   },
   "source": [
    "## Correct optics "
   ]
  },
  {
   "cell_type": "code",
   "execution_count": 31,
   "id": "5d24554b-3aaf-462e-8cb1-c27d18a8a062",
   "metadata": {
    "tags": []
   },
   "outputs": [],
   "source": [
    "#C0,C90,C45,C135 = correct_with_matrix(C0,C90,C45,C135) #matrix as measured\n",
    "\n",
    "#Only for files starting from october 2022 (after realignment)\n",
    "\n",
    "start_opti = 0\n",
    "end_opti = 100000\n",
    "\n",
    "if filebeforeOct22 == 0:\n",
    "    par =  find_best_coeff_using_matrix(C0or[start_opti:end_opti],C90or[start_opti:end_opti],C45or[start_opti:end_opti],C135or[start_opti:end_opti]) \n",
    "    C0,C90,C45,C135 = correct_with_matrix(C0or,C90or,C45or,C135or) #matrix as measured\n",
    "    C90*=par.x[0] #comment if manual\n",
    "    C45*=par.x[1]  #comment if manual\n",
    "    C135*=par.x[2]  #comment if manual\n",
    "\n",
    "#Previous files\n",
    "if filebeforeOct22 == 1:\n",
    "    par = find_best_coeff(C0or[start_opti:end_opti],C90or[start_opti:end_opti],C45or[start_opti:end_opti],C135or[start_opti:end_opti])\n",
    "    C0 = C0or\n",
    "    C90=C90or*par.x[0] #comment if manual\n",
    "    C45=C45or*par.x[1]  #comment if manual\n",
    "    C135=C135or*par.x[2]  #comment if manual\n",
    " \n",
    "#Or manual\n",
    "#cor = [1,1,1]\n",
    "\n",
    "#C90*=cor[0]\n",
    "#C45*=cor[1]\n",
    "#C135*=cor[2]\n",
    "\n",
    "#Background\n",
    "\n",
    "#Background\n",
    "bg135 = 0.0\n",
    "bg0 = 0\n",
    "bg90 = 0\n",
    "bg45 = bg0+bg90-bg135\n",
    "\n",
    "\n",
    "C0-=bg0\n",
    "C90-=bg90\n",
    "C45-=bg45\n",
    "C135-=bg135"
   ]
  },
  {
   "cell_type": "markdown",
   "id": "174ef24e-2207-4288-99e3-82ba267c171d",
   "metadata": {
    "tags": []
   },
   "source": [
    "## Define ROI"
   ]
  },
  {
   "cell_type": "code",
   "execution_count": 32,
   "id": "54ac44c4-b54e-4951-ab2d-9cabc08e75b6",
   "metadata": {
    "tags": []
   },
   "outputs": [],
   "source": [
    "def def_roi(rmin,rmax,keep=0):\n",
    "    global c0,c90,c45,c135,phi,theta1,Itots2theta,Itot,phiu,phir,xt\n",
    "    c0 = C0[rmin:rmax]\n",
    "    c90 = C90[rmin:rmax]\n",
    "    c45 = C45[rmin:rmax]\n",
    "    c135 = C135[rmin:rmax]\n",
    "    xt = xtime[rmin:rmax]\n",
    "    phi,theta1,Itots2theta,Itot = Fourkas(c0,c90,c45,c135,nw=1.33,NA=1.3)#,phi0=result.x[0],theta0=result.x[1])\n",
    "    phiu = np.unwrap(phi,period=np.pi) #Unwrapped phi in rad\n",
    "    phir = phiu%(2*np.pi) #Rewrapped phi\n",
    "    if not keep:\n",
    "        del(theta1,Itots2theta,Itot)\n",
    "    \n",
    "def_roi(0,len(C90))"
   ]
  },
  {
   "cell_type": "code",
   "execution_count": 33,
   "id": "377364fb-c746-42c0-a960-299c4d933479",
   "metadata": {
    "tags": []
   },
   "outputs": [
    {
     "data": {
      "text/plain": [
       "3000000"
      ]
     },
     "execution_count": 33,
     "metadata": {},
     "output_type": "execute_result"
    }
   ],
   "source": [
    "len(c90)"
   ]
  },
  {
   "cell_type": "markdown",
   "id": "592f18db-3d42-4504-942f-2f7ada0d78d6",
   "metadata": {
    "tags": []
   },
   "source": [
    "# Characteristics"
   ]
  },
  {
   "cell_type": "code",
   "execution_count": null,
   "id": "33ba8bde-ead2-406b-9d00-cb3826c93e13",
   "metadata": {},
   "outputs": [],
   "source": [
    "def_roi(0,500000)"
   ]
  },
  {
   "cell_type": "markdown",
   "id": "df621df5-4ff2-4436-b840-6425a0393de4",
   "metadata": {
    "tags": []
   },
   "source": [
    "## Characteristics of signals"
   ]
  },
  {
   "cell_type": "code",
   "execution_count": null,
   "id": "e4047602-33f6-462d-a64b-d9a1cb4f97b3",
   "metadata": {
    "tags": []
   },
   "outputs": [],
   "source": [
    "f =  plt.figure()\n",
    "\n",
    "plt.scatter(c0+c90,c45+c135,c=c90,s=0.1)\n",
    "plt.ylabel(\"c45+c135\")\n",
    "plt.ylabel(\"c0+C90\")\n",
    "\n",
    "fig2inline(f)\n",
    "\n",
    "f =  plt.figure()\n",
    "\n",
    "plt.hist(c0,100,alpha=0.2)\n",
    "plt.hist(c90,100,alpha=0.2)\n",
    "plt.hist(c45,100,alpha=0.2)\n",
    "plt.hist(c135,100,alpha=0.2)\n",
    "\n",
    "fig2inline(f)\n"
   ]
  },
  {
   "cell_type": "markdown",
   "id": "f2090f5a-3faa-49d6-ba84-52467dbfb1ee",
   "metadata": {
    "tags": []
   },
   "source": [
    "## Characteristics of trajectories"
   ]
  },
  {
   "cell_type": "code",
   "execution_count": null,
   "id": "560d6e16-4146-41c2-af7a-e62cb1b74504",
   "metadata": {
    "tags": []
   },
   "outputs": [],
   "source": [
    "Anis090 = (c0 - c90) / (c0 + c90)\n",
    "Anis45135 = (c45 - c135) / (c45 + c135)"
   ]
  },
  {
   "cell_type": "code",
   "execution_count": null,
   "id": "a50116cc-d223-4235-81f6-7d7263ce202c",
   "metadata": {
    "tags": []
   },
   "outputs": [],
   "source": [
    "f= plt.figure(figsize=[6,6],constrained_layout=True)\n",
    "plt.xlim([-1,1])\n",
    "plt.ylim([-1,1])\n",
    "plt.title(tdmspath)\n",
    "\n",
    "\n",
    "plt.plot(Anis090,Anis45135,'.',ms=0.01)\n",
    "plt.xlabel(\"0/90 anisotropy\")\n",
    "plt.ylabel(\"45/135 anisotropy\")\n",
    "fig2inline(f)\n",
    "\n",
    "f= plt.figure(figsize=[6,6])\n",
    "plt.plot(c0,c90,'.',ms=0.3)\n",
    "plt.xlabel(\"c0\")\n",
    "plt.ylabel(\"c45\")\n",
    "fig2inline(f)\n",
    "\n",
    "\n",
    "f = plt.figure(figsize=[6,6])\n",
    "\n",
    "plt.plot(c45,c135,'.',ms=0.3)\n",
    "plt.xlabel(\"c45\")\n",
    "plt.ylabel(\"c135\")\n",
    "fig2inline(f)\n"
   ]
  },
  {
   "cell_type": "markdown",
   "id": "7965df47-1670-436f-a923-c31877e1cbc2",
   "metadata": {
    "tags": []
   },
   "source": [
    "## Spectrum of channels"
   ]
  },
  {
   "cell_type": "code",
   "execution_count": null,
   "id": "b881297e-73f0-4bce-ab15-2df16054d31c",
   "metadata": {
    "tags": []
   },
   "outputs": [],
   "source": [
    "#parameters\n",
    "\n",
    "nperseg = 2**18        # Number of points in a window. If larger than the number of point in Data the spectrum is not averaged\n",
    "noverlap = nperseg/2    # Overlap between two windows when averaging the spectrum of various windows\n",
    "nfft = nperseg #Number of points to do the fft. If larger than the number of point in a window this will pad with 0 and smooth the spectrum\n"
   ]
  },
  {
   "cell_type": "code",
   "execution_count": null,
   "id": "444df9c3-9abe-4842-974d-70f30ac124f4",
   "metadata": {
    "tags": []
   },
   "outputs": [],
   "source": [
    "\n",
    "nperseg = np.min([len(c0),nperseg])           # Number of points in a window. If larger than the number of point in Data the spectrum is not averaged\n",
    "noverlap = nperseg/2    # Overlap between two windows when averaging the spectrum of various windows\n",
    "nfft = np.min([nfft,len(c0)]) #Number of points to do the fft. If larger than the number of point in a window this will pad with 0 and smooth the spectrum\n",
    "\n",
    "\n",
    "f = plt.figure()\n",
    "\n",
    "f0, Pxx_den0 = signal.welch(c0, 250e3, nperseg=nperseg,nfft=nfft,noverlap=noverlap)\n",
    "f90, Pxx_den90 = signal.welch(c90, 250e3,nperseg=nperseg,nfft=nfft,noverlap=noverlap)\n",
    "f45, Pxx_den45 = signal.welch(c135, 250e3, nperseg=nperseg,nfft=nfft,noverlap=noverlap)\n",
    "f135, Pxx_den135 = signal.welch(c45, 250e3, nperseg=nperseg,nfft=nfft,noverlap=noverlap)\n",
    "\n",
    "plt.plot(f0, Pxx_den0,label=\"0\")\n",
    "plt.plot(f90, Pxx_den90,label=\"90\")\n",
    "plt.plot(f45, Pxx_den45,label=\"45\")\n",
    "plt.plot(f135, Pxx_den135,label=\"135\")\n",
    "\n",
    "\n",
    "plt.yscale(\"log\")\n",
    "plt.xscale(\"log\")\n",
    "plt.xlabel(\"Freq (Hz)\")\n",
    "plt.ylabel(\"V/sqrt(Hz)\")\n",
    "plt.legend()\n",
    "\n",
    "#fig2inline(f)"
   ]
  },
  {
   "cell_type": "code",
   "execution_count": null,
   "id": "9a6549f6-4c5b-4106-abc9-b8e62ad28a8d",
   "metadata": {
    "jupyter": {
     "source_hidden": true
    }
   },
   "outputs": [],
   "source": [
    "f = plt.figure()\n",
    "plt.hist(c0,1000)\n",
    "plt.hist(c90,1000)\n",
    "plt.hist(c45,1000)\n",
    "plt.hist(c135,1000)"
   ]
  },
  {
   "cell_type": "markdown",
   "id": "66f35b8b-115a-41eb-a6a8-3f9325757085",
   "metadata": {
    "tags": []
   },
   "source": [
    "# Compute Fourkas"
   ]
  },
  {
   "cell_type": "code",
   "execution_count": null,
   "id": "76767002-37a6-4bf6-ab08-2ba7dc17f4ea",
   "metadata": {
    "scrolled": true,
    "tags": []
   },
   "outputs": [],
   "source": [
    "phi,theta1,Itots2theta,Itot = Fourkas(c0,c90,c45,c135,nw=1.33,NA=1.3)#,phi0=result.x[0],theta0=result.x[1])\n",
    "print(\"There are \"+str(len(theta1[np.isnan(theta1)]))+\" NAN\")"
   ]
  },
  {
   "cell_type": "code",
   "execution_count": null,
   "id": "c83a932e-eefc-4c39-8bf9-17c5af882cdb",
   "metadata": {
    "tags": []
   },
   "outputs": [],
   "source": [
    "phiu = np.unwrap(phi,period=np.pi) #Unwrapped phi in rad\n",
    "phir = phiu%(2*np.pi) #Rewrapped phi\n",
    "del(theta1,Itots2theta,Itot)"
   ]
  },
  {
   "cell_type": "markdown",
   "id": "3a3e58aa-66bc-486d-903a-02b564333c12",
   "metadata": {
    "tags": []
   },
   "source": [
    "# Phi Characteristics"
   ]
  },
  {
   "cell_type": "markdown",
   "id": "f1d65877-aa36-474c-a52b-0b37ea066440",
   "metadata": {},
   "source": [
    "## Phi histogram"
   ]
  },
  {
   "cell_type": "code",
   "execution_count": 12,
   "id": "9cbed134-bad6-4943-b668-14b812a1bdf8",
   "metadata": {
    "tags": []
   },
   "outputs": [
    {
     "data": {
      "image/png": "[encoded data removed]",
      "text/plain": [
       "<IPython.core.display.Image object>"
      ]
     },
     "metadata": {},
     "output_type": "display_data"
    }
   ],
   "source": [
    "f = plt.figure(dpi=100,constrained_layout=True)\n",
    "n,p,s = plt.hist(phir[:100000],100)\n",
    "fig2inline(f)"
   ]
  },
  {
   "cell_type": "markdown",
   "id": "ea1a2ae7-79d0-4deb-a9e0-716e2cdf9963",
   "metadata": {},
   "source": [
    "## Itot "
   ]
  },
  {
   "cell_type": "code",
   "execution_count": null,
   "id": "c68f4e04-364e-4b12-b6ad-dbe6f38570a0",
   "metadata": {
    "tags": []
   },
   "outputs": [],
   "source": [
    "ind1=np.where(~np.isnan(theta1))\n",
    "theta1 = theta1[ind1]\n",
    "Itot=Itot[ind1]\n",
    "Itots2theta=Itots2theta[ind1]\n",
    "\n",
    "f = plt.figure()\n",
    "plt.hist2d(theta1,Itots2theta,100,cmap=plt.cm.jet)\n",
    "plt.colorbar()\n",
    "plt.xlabel(\"Theta\")\n",
    "plt.ylabel(\"Itot\")\n",
    "plt.title(tdmspath)\n",
    "fig2inline(f)\n",
    "\n",
    "f = plt.figure()\n",
    "ind = np.where(Itot<60)\n",
    "\n",
    "plt.hist2d(theta1[ind],Itots2theta[ind]/np.sin(theta1[ind])**2,100,cmap=plt.cm.jet)\n",
    "plt.colorbar()\n",
    "plt.xlabel(\"Theta\")\n",
    "plt.ylabel(\"Itot/sin(theta)²\")\n",
    "plt.title(tdmspath)\n",
    "fig2inline(f)"
   ]
  },
  {
   "cell_type": "markdown",
   "id": "23cc5bf3-ae1c-48bf-a1dc-ca2e403dd820",
   "metadata": {
    "tags": []
   },
   "source": [
    "# Show Phi"
   ]
  },
  {
   "cell_type": "code",
   "execution_count": 34,
   "id": "8aa90d6e-af61-47d8-810e-be181abfae75",
   "metadata": {
    "tags": []
   },
   "outputs": [
    {
     "data": {
      "text/plain": [
       "Text(0.5, 0, 'Time')"
      ]
     },
     "execution_count": 34,
     "metadata": {},
     "output_type": "execute_result"
    },
    {
     "data": {
      "application/vnd.jupyter.widget-view+json": {
       "model_id": "c5df8c6fc8f34712a158e1625096cd80",
       "version_major": 2,
       "version_minor": 0
      },
      "image/png": "[encoded data removed]",
      "text/html": [
       "\n",
       "            <div style=\"display: inline-block;\">\n",
       "                <div class=\"jupyter-widgets widget-label\" style=\"text-align: center;\">\n",
       "                    Figure\n",
       "                </div>\n",
       "                <img src='data:image/png;base64,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' width=640.0/>\n",
       "            </div>\n",
       "        "
      ],
      "text/plain": [
       "Canvas(toolbar=Toolbar(toolitems=[('Home', 'Reset original view', 'home', 'home'), ('Back', 'Back to previous …"
      ]
     },
     "metadata": {},
     "output_type": "display_data"
    }
   ],
   "source": [
    "%matplotlib widget\n",
    "f = plt.figure(dpi=100,constrained_layout=True)\n",
    "ind = np.where(np.logical_and(xt>52.2,xt<52.3))\n",
    "plt.plot(xt,phiu,\".\",ms=4)\n",
    "np.std(phiu[ind])*180/np.pi\n",
    "plt.ylabel(\"Rad\")\n",
    "plt.xlabel(\"Time\")"
   ]
  },
  {
   "cell_type": "code",
   "execution_count": null,
   "id": "29715ca5-2c33-47bb-9fed-c422ae135279",
   "metadata": {},
   "outputs": [],
   "source": [
    "v = np.diff(phiu)/(xtime[1]-xtime[0])/2/np.pi"
   ]
  },
  {
   "cell_type": "code",
   "execution_count": null,
   "id": "5688f4f3-1fc2-489d-9665-9c571c318e01",
   "metadata": {},
   "outputs": [],
   "source": [
    "vf=np.convolve(v,np.ones(200),'same')/200"
   ]
  },
  {
   "cell_type": "code",
   "execution_count": null,
   "id": "dd34c05d-697d-4e75-879e-9c0b720549ae",
   "metadata": {},
   "outputs": [],
   "source": [
    "%matplotlib widget\n",
    "f = plt.figure(dpi=100,constrained_layout=True)\n",
    "plt.title(tdmspath)\n",
    "plt.ylabel(\"Speed (Hz)\")\n",
    "plt.xlabel(\"Time (s)\")\n",
    "plt.plot(xt[1:],vf)"
   ]
  },
  {
   "cell_type": "code",
   "execution_count": null,
   "id": "9362503e-134c-4cb1-a1e0-f93486dc49a4",
   "metadata": {},
   "outputs": [],
   "source": [
    "plt.figure()\n",
    "n,p,s=plt.hist(vf,1000)"
   ]
  },
  {
   "cell_type": "markdown",
   "id": "18baeb67-3433-4509-8dc4-a7791b86eb19",
   "metadata": {
    "tags": []
   },
   "source": [
    "# Speed "
   ]
  },
  {
   "cell_type": "code",
   "execution_count": null,
   "id": "60151403-94fd-4568-9a82-2fa3fb09fc34",
   "metadata": {},
   "outputs": [],
   "source": [
    "med = signal.medfilt(np.diff(phiu[:1000000]), kernel_size=1001)"
   ]
  },
  {
   "cell_type": "code",
   "execution_count": null,
   "id": "c1305655-dd9f-44d1-865f-316f13cc0c5b",
   "metadata": {},
   "outputs": [],
   "source": [
    "med2 = signal.medfilt(med2, kernel_size=1001)"
   ]
  },
  {
   "cell_type": "code",
   "execution_count": null,
   "id": "0d9bfca7-c00c-4e77-bce8-a6b567446865",
   "metadata": {},
   "outputs": [],
   "source": [
    "plt.figure()\n",
    "plt.plot(xtime[:999999],med[:])"
   ]
  },
  {
   "cell_type": "markdown",
   "id": "1933dcda-f09e-4432-a798-9e4b2dcfa86f",
   "metadata": {
    "tags": []
   },
   "source": [
    "# Spectrum of phi"
   ]
  },
  {
   "cell_type": "code",
   "execution_count": null,
   "id": "c18dfe47-3d53-440a-8bda-e16f6f261ad5",
   "metadata": {
    "tags": []
   },
   "outputs": [],
   "source": [
    "#parameters\n",
    "\n",
    "nperseg = 2**18        # Number of points in a window. If larger than the number of point in Data the spectrum is not averaged\n",
    "noverlap = nperseg/2    # Overlap between two windows when averaging the spectrum of various windows\n",
    "nfft = nperseg #Number of points to do the fft. If larger than the number of point in a window this will pad with 0 and smooth the spectrum\n"
   ]
  },
  {
   "cell_type": "code",
   "execution_count": null,
   "id": "fc8ad4d0-8ea6-46a6-89ec-cc763b3a351d",
   "metadata": {
    "tags": []
   },
   "outputs": [],
   "source": [
    "\n",
    "nperseg = np.min([len(c0),nperseg])           # Number of points in a window. If larger than the number of point in Data the spectrum is not averaged\n",
    "novCopy3erlap = nperseg/2    # Overlap between two windows when averaging the spectrum of various windows\n",
    "nfft = np.min([nfft,len(c0)]) #Number of points to do the fft. If larger than the number of point in a window this will pad with 0 and smooth the spectrum\n",
    "\n",
    "\n",
    "f = plt.figure(dpi=200,constrained_layout=True)\n",
    "\n",
    "f0, Pxx_den0 = signal.welch(phiu, 250e3, nperseg=nperseg,nfft=nfft,noverlap=noverlap)\n",
    "plt.plot(f0, Pxx_den0,label=\"phi\")\n",
    "\n",
    "plt.yscale(\"log\")\n",
    "plt.xscale(\"log\")\n",
    "plt.xlabel(\"Freq (Hz)\")\n",
    "plt.ylabel(\"rad²/Hz\")\n",
    "plt.legend()\n",
    "fig2inline(f)"
   ]
  },
  {
   "cell_type": "markdown",
   "id": "f4477753-159b-4f4f-91d0-1bca6f1b5d8c",
   "metadata": {
    "tags": []
   },
   "source": [
    "# ECF"
   ]
  },
  {
   "cell_type": "code",
   "execution_count": 13,
   "id": "771afdc5-e490-459c-a9a5-4e7f2188a6fc",
   "metadata": {},
   "outputs": [],
   "source": [
    "import importlib\n",
    "import ECF\n",
    "importlib.reload(ECF)\n",
    "from ECF import * # or whatever name you want.\n"
   ]
  },
  {
   "cell_type": "code",
   "execution_count": 35,
   "id": "63530bff-5cc0-4793-9983-54af49048829",
   "metadata": {},
   "outputs": [],
   "source": [
    "def_roi(0,10000000)\n"
   ]
  },
  {
   "cell_type": "code",
   "execution_count": 36,
   "id": "dd4c4494-13a1-4492-b55a-2b9b98ba6dc1",
   "metadata": {},
   "outputs": [],
   "source": [
    "#parameters\n",
    "nstepmax = 10000 #max number of steps\n",
    "nwindow = 400 #sier of window\n",
    "modemax = 80 #maximum mode to study\n",
    "modemin = 1 #minimum mode to study\n",
    "\n",
    "nshift = int(nwindow/2)"
   ]
  },
  {
   "cell_type": "code",
   "execution_count": 37,
   "id": "d4a649ae-56ec-46e2-bcc0-db67cd49a88f",
   "metadata": {
    "tags": []
   },
   "outputs": [
    {
     "name": "stderr",
     "output_type": "stream",
     "text": [
      "2022-11-20 19:22:15,448\tINFO worker.py:1518 -- Started a local Ray instance.\n",
      "\u001b[2m\u001b[33m(raylet)\u001b[0m /home/martin/.local/lib/python3.10/site-packages/ray/dashboard/agent.py:50: DeprecationWarning: There is no current event loop\n",
      "\u001b[2m\u001b[33m(raylet)\u001b[0m   aiogrpc.init_grpc_aio()\n",
      "\u001b[2m\u001b[33m(raylet)\u001b[0m /home/martin/.local/lib/python3.10/site-packages/ray/dashboard/agent.py:470: DeprecationWarning: There is no current event loop\n",
      "\u001b[2m\u001b[33m(raylet)\u001b[0m   loop = asyncio.get_event_loop()\n",
      "100%|███████████████████████████████████████████| 79/79 [00:07<00:00, 10.61it/s]\n"
     ]
    }
   ],
   "source": [
    "modelist,ftl,nstep,winlist = ECF(phir,nstepmax=nstepmax,nwindow=nwindow,nshift=nshift,modemin=modemin,modemax=modemax)\n"
   ]
  },
  {
   "cell_type": "code",
   "execution_count": 20,
   "id": "ecebebeb-61cb-4f38-bf7c-caeaece35c2e",
   "metadata": {},
   "outputs": [
    {
     "data": {
      "text/plain": [
       "(10000, 3000000)"
      ]
     },
     "execution_count": 20,
     "metadata": {},
     "output_type": "execute_result"
    }
   ],
   "source": [
    "len(winlist),len(c0)"
   ]
  },
  {
   "cell_type": "code",
   "execution_count": 38,
   "id": "e981d2ed-8fc9-4315-adb1-fa31177628f2",
   "metadata": {
    "tags": []
   },
   "outputs": [
    {
     "data": {
      "text/plain": [
       "[<matplotlib.lines.Line2D at 0x7f5cd25de2f0>]"
      ]
     },
     "execution_count": 38,
     "metadata": {},
     "output_type": "execute_result"
    },
    {
     "data": {
      "application/vnd.jupyter.widget-view+json": {
       "model_id": "8892191ec4b040d4bb7326d967d31bbe",
       "version_major": 2,
       "version_minor": 0
      },
      "image/png": "[encoded data removed]",
      "text/html": [
       "\n",
       "            <div style=\"display: inline-block;\">\n",
       "                <div class=\"jupyter-widgets widget-label\" style=\"text-align: center;\">\n",
       "                    Figure\n",
       "                </div>\n",
       "                <img src='data:image/png;base64,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' width=640.0/>\n",
       "            </div>\n",
       "        "
      ],
      "text/plain": [
       "Canvas(toolbar=Toolbar(toolitems=[('Home', 'Reset original view', 'home', 'home'), ('Back', 'Back to previous …"
      ]
     },
     "metadata": {},
     "output_type": "display_data"
    }
   ],
   "source": [
    "plt.figure()\n",
    "plt.plot(modelist,ftl)"
   ]
  },
  {
   "cell_type": "markdown",
   "id": "f280bbea-0b3e-4915-a32c-968a6e0a4d17",
   "metadata": {},
   "source": [
    "# Non-linear speed"
   ]
  },
  {
   "cell_type": "code",
   "execution_count": null,
   "id": "fd9b7b68-6b92-4a0b-89e0-493073463668",
   "metadata": {},
   "outputs": [],
   "source": [
    "def_roi(0,len(C0or))"
   ]
  },
  {
   "cell_type": "code",
   "execution_count": null,
   "id": "ccdf6c40-56dc-4c4f-a476-56e42c3b1146",
   "metadata": {},
   "outputs": [],
   "source": [
    "al,bl,fitted = compute_speed_best_lin_fit(xt,phiu,2000)"
   ]
  },
  {
   "cell_type": "code",
   "execution_count": null,
   "id": "c11fdc3e-fe8f-4a31-908d-63d3874c8973",
   "metadata": {},
   "outputs": [],
   "source": [
    "plt.figure()\n",
    "plt.hist(al*180/np.pi,100)\n",
    "plt.show()"
   ]
  },
  {
   "cell_type": "code",
   "execution_count": null,
   "id": "4e29f6b5-bcc0-4f6c-a2a5-ddc1b0bf41a5",
   "metadata": {},
   "outputs": [],
   "source": [
    "plt.figure(constrained_layout=True)\n",
    "plt.plot(xt[ind],phiu[ind]/2/np.pi)\n",
    "#plt.plot(xt,fitted)\n",
    "plt.xlabel(\"Time (s)\")\n",
    "plt.ylabel(\"Angle (turns)\")\n",
    "plt.title(tdmspath)"
   ]
  },
  {
   "cell_type": "markdown",
   "id": "c25cca40-851a-49d2-aed5-ba04a186a1cb",
   "metadata": {},
   "source": [
    "# Step finding"
   ]
  },
  {
   "cell_type": "code",
   "execution_count": null,
   "id": "d71fea15-15d8-46ba-b9ab-2ddaeda1d680",
   "metadata": {},
   "outputs": [],
   "source": [
    "import  importlib,step_detect\n",
    "importlib.reload(step_detect)\n",
    "from step_detect import filter_step # or whatever name you want.\n",
    "from sklearn.metrics import pairwise_distances as pwdd"
   ]
  },
  {
   "cell_type": "code",
   "execution_count": null,
   "id": "80df96ef-1fb4-40e8-bb0a-ef3da4af70a7",
   "metadata": {},
   "outputs": [],
   "source": [
    "def_roi(0,5000000)"
   ]
  },
  {
   "cell_type": "code",
   "execution_count": null,
   "id": "7bf90aba-d8c2-473b-8cb6-a75d56caf8b9",
   "metadata": {},
   "outputs": [],
   "source": [
    "from scipy import ndimage"
   ]
  },
  {
   "cell_type": "code",
   "execution_count": null,
   "id": "0296045f-42f7-4cda-b84d-66488e795685",
   "metadata": {},
   "outputs": [],
   "source": [
    "plt.figure()\n",
    "xm = 52.245\n",
    "xmax= 52.285\n",
    "#plt.plot(xt,fitted)\n",
    "plt.xlabel(\"Time (s)\")\n",
    "plt.ylabel(\"Angle (turns)\")\n",
    "plt.title(tdmspath)\n",
    "#plt.xlim([xm,xmax])\n",
    "ind = np.where(np.logical_and(xt>xm,xt<xmax))\n",
    "#plt.ylim([phiu[ind[0][-1]]/2/np.pi,phiu[ind[0][0]]/2/np.pi])\n",
    "plt.plot(xt[ind],phiu[ind]/2/np.pi)\n",
    "\n",
    "t=1.1e-8\n",
    "n=5\n",
    "#filtered,p2,step_sizes = filter_step(phiu[ind]/2/np.pi,n=n,windowavsteps=500,t=t)\n",
    "#filtered,p2,step_sizes = filter_step(phiu[ind]/2/np.pi,n=n,windowavsteps=500,t=t)\n",
    "filtered = ndimage.median_filter(phiu[ind]/2/np.pi,35)\n",
    "\n",
    "plt.plot(xt[ind],filtered,'r')\n"
   ]
  },
  {
   "cell_type": "code",
   "execution_count": null,
   "id": "92ad0ad1-21fb-475a-b416-ea855a240013",
   "metadata": {},
   "outputs": [],
   "source": [
    "from sklearn.metrics import pairwise_distances as pwdd"
   ]
  },
  {
   "cell_type": "code",
   "execution_count": null,
   "id": "2a400ad7-a826-45b9-a349-9f5ba30717a5",
   "metadata": {},
   "outputs": [],
   "source": [
    "xm2 = 52.25\n",
    "xmax2= 52.29\n",
    "#plt.plot(xt,fitted)\n",
    "ind2 = np.where(np.logical_and(xt>xm,xt<xmax))\n",
    "\n",
    "\n",
    "#distances = pwdd(phiu[ind].reshape([-1,1])/2/np.pi) #in turn\n",
    "#distances = distances.flatten()\n"
   ]
  },
  {
   "cell_type": "code",
   "execution_count": null,
   "id": "0b87b0ca-ac1a-4ac4-8526-d9607b4c6c5d",
   "metadata": {},
   "outputs": [],
   "source": [
    "plt.figure()\n",
    "n,p,s=plt.hist(distances,500)\n",
    "plt.title(\"Histogram of pairwise distances (unwrapped angles)\")\n",
    "plt.ylabel(\"Counts\")\n",
    "plt.xlabel(\"Pairwise distance (in turns)\")\n"
   ]
  },
  {
   "cell_type": "code",
   "execution_count": null,
   "id": "a8223570-2ecd-4f71-b9ba-96ca538468bb",
   "metadata": {},
   "outputs": [],
   "source": [
    "plt.figure()\n",
    "n,p=np.histogram(filtered,60)\n",
    "ind = signal.find_peaks(n,distance=4)[0]\n",
    "plt.bar(p[1:],n,width=p[1]-p[0])\n",
    "ind2 = np.where(p[ind]>-32.05)\n",
    "plt.plot(p[ind+1],n[ind],'.',color=\"r\")\n"
   ]
  },
  {
   "cell_type": "code",
   "execution_count": null,
   "id": "a943f975-f959-442a-8d01-e7a4ecd616e3",
   "metadata": {},
   "outputs": [],
   "source": [
    "%matplotlib inline\n",
    "plt.figure(dpi=100)\n",
    "plt.plot(np.diff(p[ind]),\".\")\n",
    "plt.ylim([0,0.06])\n",
    "plt.xlabel(\"step nb\")\n",
    "plt.ylabel(\"step size (turn)\")"
   ]
  },
  {
   "cell_type": "code",
   "execution_count": null,
   "id": "57a5250d-75b9-4c96-b28e-9aefb1086d21",
   "metadata": {},
   "outputs": [],
   "source": [
    "1/0.06"
   ]
  },
  {
   "cell_type": "code",
   "execution_count": null,
   "id": "39273da8-8bd9-4750-9c18-66a4b51f725a",
   "metadata": {},
   "outputs": [],
   "source": [
    "plt.figure()\n",
    "step_sizes = np.array(step_sizes)\n",
    "step_sizes = step_sizes[np.where(np.abs(np.array(step_sizes))>1/100)]\n",
    "plt.hist(np.reciprocal(step_sizes),30)\n",
    "plt.xlim([-100,100])\n",
    "zer= plt.xticks(np.arange(-100,101,10))\n",
    "plt.xlabel(\"Periodicity (1/stepsize)\")\n",
    "plt.ylabel(\"counts\")\n",
    "plt.title(\"Step finding, threshold = \"+str(t)+ \" n = \"+str(n)+\"\\n \"+tdmspath + \"[\"+str(xm)+\",\"+str(xmax)+\"]\")"
   ]
  },
  {
   "cell_type": "code",
   "execution_count": null,
   "id": "b08ebf33-8bfd-4d50-a52b-a935f47b7d74",
   "metadata": {},
   "outputs": [],
   "source": [
    "n,p=np.histogram(filtered,100)\n",
    "indpeaks = signal.find_peaks(n,prominence=20)[0]\n",
    "xpeaks = p[1+indpeaks]\n",
    "npeaks = n[indpeaks]"
   ]
  },
  {
   "cell_type": "code",
   "execution_count": null,
   "id": "24e43652-a10f-4155-b013-4d86f2e29be4",
   "metadata": {},
   "outputs": [],
   "source": [
    "plt.figure()\n",
    "plt.plot(p[1:],n)\n",
    "plt.plot(xpeaks,npeaks,'.')"
   ]
  },
  {
   "cell_type": "code",
   "execution_count": null,
   "id": "5ef37c04-e0a1-4c01-bd40-42a8827cc1cf",
   "metadata": {},
   "outputs": [],
   "source": [
    "plt.figure()\n",
    "plt.hist(np.diff(xpeaks),20)"
   ]
  },
  {
   "cell_type": "code",
   "execution_count": null,
   "id": "150dff5c-becc-4033-adc3-52c0187b83ea",
   "metadata": {},
   "outputs": [],
   "source": [
    "angles = [0.1479,0.1792,0.2133,0.2474,0.2824,0.3260,0.3553,0.3989,0.4179,0.4349,0.4671,0.5078]"
   ]
  },
  {
   "cell_type": "code",
   "execution_count": null,
   "id": "402483f6-83f7-4b4c-b321-6c455d482f97",
   "metadata": {},
   "outputs": [],
   "source": [
    "l=np.diff(xpeaks)\n",
    "plt.figure(constrained_layout=1)\n",
    "plt.plot(l,'.')\n",
    "plt.ylim([0,0.06])\n",
    "plt.axhline(np.mean(l))\n",
    "plt.ylabel(\"Distance between peaks (turn)\")\n",
    "plt.xlabel(\"Peak\")\n",
    "plt.text(4,np.mean(l)+0.001,\"mean = \"+str(round(np.mean(l),3)) + \"= 1/\"+str(round(1/np.mean(l))),c='orange')"
   ]
  },
  {
   "cell_type": "code",
   "execution_count": null,
   "id": "4f5d1e68-fc39-472a-9e53-31d17257b08d",
   "metadata": {},
   "outputs": [],
   "source": [
    "distances = pwdd(filtered.reshape([-1,1])/2/np.pi)"
   ]
  },
  {
   "cell_type": "code",
   "execution_count": null,
   "id": "8982d563-dc99-447a-9252-f5dd757a98e9",
   "metadata": {},
   "outputs": [],
   "source": [
    "distances.shape"
   ]
  },
  {
   "cell_type": "code",
   "execution_count": null,
   "id": "d5e7139f-7c62-4f52-bf30-9308583e2cec",
   "metadata": {},
   "outputs": [],
   "source": [
    "plt.figure()\n",
    "indh=np.where(distances<0.3)\n",
    "n,p,s=plt.hist(distances[indh].flatten(),10)\n"
   ]
  },
  {
   "cell_type": "code",
   "execution_count": null,
   "id": "f67b7829-fcea-46a7-869d-7a7e593c55cb",
   "metadata": {},
   "outputs": [],
   "source": [
    "def_roi(0,50000000)"
   ]
  },
  {
   "cell_type": "code",
   "execution_count": null,
   "id": "1d60e253-044c-4cc3-90f1-04139497a9f5",
   "metadata": {},
   "outputs": [],
   "source": [
    "np.save(\"Declan_2022_10_26_phi.npy\",phiu[:50000000])"
   ]
  },
  {
   "cell_type": "code",
   "execution_count": null,
   "id": "bb34fd3e-93c3-4ef9-996d-a8e0dfe500f1",
   "metadata": {},
   "outputs": [],
   "source": [
    "len(phiu)"
   ]
  },
  {
   "cell_type": "code",
   "execution_count": null,
   "id": "84081fc2-abb0-4aa3-8220-4fabbf3533a3",
   "metadata": {},
   "outputs": [],
   "source": []
  }
 ],
 "metadata": {
  "kernelspec": {
   "display_name": "Python 3 (ipykernel)",
   "language": "python",
   "name": "python3"
  },
  "language_info": {
   "codemirror_mode": {
    "name": "ipython",
    "version": 3
   },
   "file_extension": ".py",
   "mimetype": "text/x-python",
   "name": "python",
   "nbconvert_exporter": "python",
   "pygments_lexer": "ipython3",
   "version": "3.10.6"
  },
  "toc-autonumbering": true,
  "toc-showmarkdowntxt": true,
  "toc-showtags": false
 },
 "nbformat": 4,
 "nbformat_minor": 5
}

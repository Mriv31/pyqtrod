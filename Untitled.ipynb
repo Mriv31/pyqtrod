{
 "cells": [
  {
   "cell_type": "code",
   "execution_count": 1,
   "id": "5d29439f-578b-4ca8-aae1-0b090da5be96",
   "metadata": {},
   "outputs": [
    {
     "data": {
      "text/plain": [
       "82.53968253968254"
      ]
     },
     "execution_count": 1,
     "metadata": {},
     "output_type": "execute_result"
    }
   ],
   "source": [
    "0.52/0.63*100"
   ]
  },
  {
   "cell_type": "code",
   "execution_count": null,
   "id": "067061c2-0b33-456e-92ce-ea61ef5a8d5e",
   "metadata": {},
   "outputs": [],
   "source": []
  }
 ],
 "metadata": {
  "kernelspec": {
   "display_name": "Python 3 (ipykernel)",
   "language": "python",
   "name": "python3"
  },
  "language_info": {
   "codemirror_mode": {
    "name": "ipython",
    "version": 3
   },
   "file_extension": ".py",
   "mimetype": "text/x-python",
   "name": "python",
   "nbconvert_exporter": "python",
   "pygments_lexer": "ipython3",
   "version": "3.10.6"
  }
 },
 "nbformat": 4,
 "nbformat_minor": 5
}
